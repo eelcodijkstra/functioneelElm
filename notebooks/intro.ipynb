{
 "cells": [
  {
   "cell_type": "markdown",
   "id": "c5bbe40e-4647-4b10-880f-3faa9e3c92d8",
   "metadata": {},
   "source": [
    "# Functioneel programmeren - in Elm"
   ]
  },
  {
   "cell_type": "markdown",
   "id": "5c749607-a47e-48ad-86d4-e5574cb4e270",
   "metadata": {},
   "source": [
    "```{Note}\n",
    "Dit is een concept, gemaakt met Jupyter book, gericht op het gebruik van Jupyter notebooks.\n",
    "```"
   ]
  },
  {
   "cell_type": "code",
   "execution_count": null,
   "id": "e1c88752-516e-4093-ac81-ca8222b3e34d",
   "metadata": {},
   "outputs": [],
   "source": []
  }
 ],
 "metadata": {
  "kernelspec": {
   "display_name": "Python 3",
   "language": "python",
   "name": "python3"
  },
  "language_info": {
   "codemirror_mode": {
    "name": "ipython",
    "version": 3
   },
   "file_extension": ".py",
   "mimetype": "text/x-python",
   "name": "python",
   "nbconvert_exporter": "python",
   "pygments_lexer": "ipython3",
   "version": "3.9.6"
  }
 },
 "nbformat": 4,
 "nbformat_minor": 5
}
