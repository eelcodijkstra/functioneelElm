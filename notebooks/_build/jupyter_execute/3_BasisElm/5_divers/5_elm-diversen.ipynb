{
 "cells": [
  {
   "cell_type": "markdown",
   "id": "4bdd45a2-5b03-45ec-a761-faa25d35e502",
   "metadata": {},
   "source": [
    "# 3.5 Records"
   ]
  },
  {
   "cell_type": "markdown",
   "id": "f2379a27-7810-4139-b8df-966139fdb41f",
   "metadata": {},
   "source": [
    "Een record is een verzameling van zogenaamde `key`/`value` pairs. De `key` is de naam van een eigenschap, de `value` is de waarde. Bekijk dit voorbeeld van een `record` met naam ‘person’: "
   ]
  },
  {
   "cell_type": "code",
   "execution_count": 1,
   "id": "66e373a0-3c5b-432f-a77f-860e538f2720",
   "metadata": {},
   "outputs": [
    {
     "name": "stdout",
     "output_type": "stream",
     "text": [
      "{ \u001b[37machternaam\u001b[0m = \u001b[93m\"Yolo\"\u001b[0m, \u001b[37mfavorieteKleur\u001b[0m = \u001b[93m\"Red\"\u001b[0m, \u001b[37mgeboorteJaar\u001b[0m = \u001b[95m2003\u001b[0m, \u001b[37mlengteInCm\u001b[0m = \u001b[93m\"186\"\u001b[0m, \u001b[37mvoornaam\u001b[0m = \u001b[93m\"Xavier\"\u001b[0m }\u001b[90m\r\n",
      "    : { achternaam : String\r\n",
      "      , favorieteKleur : String\r\n",
      "      , geboorteJaar : number\r\n",
      "      , lengteInCm : String\r\n",
      "      , voornaam : String\r\n",
      "      }\u001b[0m\r\n"
     ]
    }
   ],
   "source": [
    "person = { voornaam = \"Xavier\" , achternaam = \"Yolo\" , lengteInCm = \"186\" \n",
    "         , geboorteJaar = 2003 , favorieteKleur = \"Red\" }"
   ]
  },
  {
   "cell_type": "markdown",
   "id": "a1ab880b-56aa-4ac4-931a-17fe45f091b2",
   "metadata": {},
   "source": [
    "Vervolgens kun je van dit record elke eigenschap opvragen, zoals bijvoorbeeld de voornaam: "
   ]
  },
  {
   "cell_type": "code",
   "execution_count": 2,
   "id": "9c2a6bba-00a0-43d7-ada4-9872d450592a",
   "metadata": {},
   "outputs": [
    {
     "name": "stdout",
     "output_type": "stream",
     "text": [
      "\u001b[93m\"Xavier\"\u001b[0m\u001b[90m : String\u001b[0m\r\n"
     ]
    }
   ],
   "source": [
    "person.voornaam"
   ]
  },
  {
   "cell_type": "markdown",
   "id": "92d08ccb-d762-4623-9d45-9ef70dc796a1",
   "metadata": {},
   "source": [
    "of de lengte: "
   ]
  },
  {
   "cell_type": "code",
   "execution_count": 3,
   "id": "f5ff5701-289b-4b57-b209-ee32bbf5b2fa",
   "metadata": {},
   "outputs": [
    {
     "name": "stdout",
     "output_type": "stream",
     "text": [
      "\u001b[93m\"186\"\u001b[0m\u001b[90m : String\u001b[0m\r\n"
     ]
    }
   ],
   "source": [
    "person.lengteInCm"
   ]
  },
  {
   "cell_type": "markdown",
   "id": "2e6644fa-64ef-466d-a9dc-79ace80986bf",
   "metadata": {},
   "source": [
    "Als je de waarde van een eigenschap wilt aanpassen maak je een nieuw record. Hierbij kun je aangeven dat je de waarden van 'person' overneemt, en vervolgens de waarden die afwijken los opsommen: "
   ]
  },
  {
   "cell_type": "code",
   "execution_count": 4,
   "id": "dad13d42-5396-4876-b35f-6013355b7605",
   "metadata": {},
   "outputs": [
    {
     "name": "stdout",
     "output_type": "stream",
     "text": [
      "{ \u001b[37machternaam\u001b[0m = \u001b[93m\"Yolo\"\u001b[0m, \u001b[37mfavorieteKleur\u001b[0m = \u001b[93m\"Blue\"\u001b[0m, \u001b[37mgeboorteJaar\u001b[0m = \u001b[95m2005\u001b[0m, \u001b[37mlengteInCm\u001b[0m = \u001b[93m\"186\"\u001b[0m, \u001b[37mvoornaam\u001b[0m = \u001b[93m\"Xavier\"\u001b[0m }\u001b[90m\r\n",
      "    : { achternaam : String\r\n",
      "      , favorieteKleur : String\r\n",
      "      , geboorteJaar : number\r\n",
      "      , lengteInCm : String\r\n",
      "      , voornaam : String\r\n",
      "      }\u001b[0m\r\n"
     ]
    }
   ],
   "source": [
    "person2 = { person | geboorteJaar = 2005 , favorieteKleur = \"Blue\" }"
   ]
  },
  {
   "cell_type": "markdown",
   "id": "64d4f709-c7ff-4148-84b2-d7f9c39bb60b",
   "metadata": {},
   "source": [
    "en je kunt de waarden van een record toekennen aan losse variabelen (dit heet Destructuring). \n",
    "\n",
    "In bijvoorbeeld de cheatsheet of de elm-tutorial (zie ‘bronnenlijst.ipynb’) kun je nog meer voorbeelden en mogelijkheden van records vinden."
   ]
  },
  {
   "cell_type": "code",
   "execution_count": null,
   "id": "e32fd911-3cb2-45ff-91b6-4b648283cc21",
   "metadata": {},
   "outputs": [],
   "source": []
  }
 ],
 "metadata": {
  "kernelspec": {
   "display_name": "Elm Repl",
   "language": "elm",
   "name": "elmreplkernel"
  },
  "language_info": {
   "codemirror_mode": "elm",
   "file_extension": ".elm",
   "mimetype": "text/x-elm",
   "name": "elm"
  }
 },
 "nbformat": 4,
 "nbformat_minor": 5
}