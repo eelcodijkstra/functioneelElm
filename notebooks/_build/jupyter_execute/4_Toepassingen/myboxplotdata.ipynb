{
 "cells": [
  {
   "cell_type": "markdown",
   "metadata": {},
   "source": [
    "# Functie boxplotdata"
   ]
  },
  {
   "cell_type": "markdown",
   "metadata": {},
   "source": [
    "Je gaat een functie `boxplotdata lst` maken, met als resultaat een lijst van 5 getallen betreffende de lijst `lst`, achtereenvolgens:\n",
    "\n",
    "* kleinste getal van `lst`\n",
    "* eerste kwartiel\n",
    "* tweede kwartiel (mediaan) van `lst`\n",
    "* derde kwartiel\n",
    "* grootste getal van `lst`\n",
    "\n",
    "Deze getallen vormen de basis voor het tekenen van de boxplot.\n",
    "\n",
    "Als voorbeeld kun je het programma (boxplotdata.elm](http://goloca.org:443/examples/boxplotdata.elm) gebruiken: je voert een lijst met getallen in (gescheiden door komma's), en krijgt deze 5 getallen als resultaat terug.\n",
    "\n",
    "Voor als voorbeeld in: `7,3,8,6,8,5,4,5,3,6,2,6,9,1,2,7,5,8,7,6`\n",
    "\n",
    "Dit geeft als resultaat: `[1,3.5,6,7,9]`"
   ]
  },
  {
   "cell_type": "markdown",
   "metadata": {},
   "source": [
    "Voor het bepalen van het kleinste getal, mediaan, enz., begin je met het sorteren van de invoerlijst. Hiervoor kun je de functie `List.sort` gebruiken. (Later kun je je eigen sorteerfunctie maken.)\n",
    "\n",
    "Definieer aparte functies voor elk de 5 getallen die je moet berekenen *uit deze gesorteerde lijst*.\n",
    "De functie `boxplotdata` is dan een eenvoudige combinatie van deze functies (zie verderop)."
   ]
  },
  {
   "cell_type": "markdown",
   "metadata": {},
   "source": [
    "Je kunt gebruik maken van de volgende functies:"
   ]
  },
  {
   "cell_type": "code",
   "execution_count": 1,
   "metadata": {},
   "outputs": [
    {
     "name": "stdout",
     "output_type": "stream",
     "text": []
    }
   ],
   "source": [
    "import List exposing (take, drop, length, reverse, minimum, maximum, sort, map, head, tail)\n",
    "import Maybe exposing (withDefault)"
   ]
  },
  {
   "cell_type": "markdown",
   "metadata": {},
   "source": [
    "We gebruiken hier de voorbeeld-data die je hierboven gezien hebt."
   ]
  },
  {
   "cell_type": "code",
   "execution_count": 2,
   "metadata": {},
   "outputs": [
    {
     "name": "stdout",
     "output_type": "stream",
     "text": [
      "[\u001b[95m7\u001b[0m,\u001b[95m3\u001b[0m,\u001b[95m8\u001b[0m,\u001b[95m6\u001b[0m,\u001b[95m8\u001b[0m,\u001b[95m5\u001b[0m,\u001b[95m4\u001b[0m,\u001b[95m5\u001b[0m,\u001b[95m3\u001b[0m,\u001b[95m6\u001b[0m,\u001b[95m2\u001b[0m,\u001b[95m6\u001b[0m,\u001b[95m9\u001b[0m,\u001b[95m1\u001b[0m,\u001b[95m2\u001b[0m,\u001b[95m7\u001b[0m,\u001b[95m5\u001b[0m,\u001b[95m8\u001b[0m,\u001b[95m7\u001b[0m,\u001b[95m6\u001b[0m]\u001b[90m\r\n",
      "    : List number\u001b[0m\r\n"
     ]
    }
   ],
   "source": [
    "data = [7,3,8,6,8,5,4,5,3,6,2,6,9,1,2,7,5,8,7,6]"
   ]
  },
  {
   "cell_type": "markdown",
   "metadata": {},
   "source": [
    "Als eerste stap maken we daarvan een gesorteerde lijst"
   ]
  },
  {
   "cell_type": "code",
   "execution_count": 3,
   "metadata": {},
   "outputs": [
    {
     "name": "stdout",
     "output_type": "stream",
     "text": [
      "[\u001b[95m1\u001b[0m,\u001b[95m2\u001b[0m,\u001b[95m2\u001b[0m,\u001b[95m3\u001b[0m,\u001b[95m3\u001b[0m,\u001b[95m4\u001b[0m,\u001b[95m5\u001b[0m,\u001b[95m5\u001b[0m,\u001b[95m5\u001b[0m,\u001b[95m6\u001b[0m,\u001b[95m6\u001b[0m,\u001b[95m6\u001b[0m,\u001b[95m6\u001b[0m,\u001b[95m7\u001b[0m,\u001b[95m7\u001b[0m,\u001b[95m7\u001b[0m,\u001b[95m8\u001b[0m,\u001b[95m8\u001b[0m,\u001b[95m8\u001b[0m,\u001b[95m9\u001b[0m]\u001b[90m\r\n",
      "    : List number\u001b[0m\r\n"
     ]
    }
   ],
   "source": [
    "sortData = List.sort data"
   ]
  },
  {
   "cell_type": "markdown",
   "metadata": {},
   "source": [
    "**kleinste:** het kleinste getal van de lijst is het eerste getal in de gesorteerde lijst. Als de lijst leeg is, neem je 0 als resultaat.\n",
    "\n",
    "*Opmerking.* De functie `List.head` levert een resultaat op van type `Maybe`, omdat de lijst ook leeg kan zijn. De uitdrukking `Maybe.withDefault 0 x` levert een getal op: 0 als de maybe-waarde `x` gelijk is aan `Nothing`."
   ]
  },
  {
   "cell_type": "code",
   "execution_count": 4,
   "metadata": {},
   "outputs": [
    {
     "name": "stdout",
     "output_type": "stream",
     "text": [
      "\u001b[36m<function>\u001b[0m\u001b[90m : List Float -> Float\u001b[0m\r\n"
     ]
    }
   ],
   "source": [
    "first : List Float -> Float\n",
    "first lst = 0"
   ]
  },
  {
   "cell_type": "code",
   "execution_count": 5,
   "metadata": {},
   "outputs": [
    {
     "name": "stdout",
     "output_type": "stream",
     "text": [
      "\u001b[95m0\u001b[0m\u001b[90m : Float\u001b[0m\r\n"
     ]
    }
   ],
   "source": [
    "first [1,2,3,4,5]"
   ]
  },
  {
   "cell_type": "code",
   "execution_count": 6,
   "metadata": {},
   "outputs": [
    {
     "name": "stdout",
     "output_type": "stream",
     "text": [
      "\u001b[95m0\u001b[0m\u001b[90m : Float\u001b[0m\r\n"
     ]
    }
   ],
   "source": [
    "kleinste = first sortData"
   ]
  },
  {
   "cell_type": "markdown",
   "metadata": {},
   "source": [
    "**grootste:** het grootste getal is het laatste van de gesorteerde lijst - ofwel, het eerste van de `reverse` van deze gesorteerde lijst. (Gebruik `List.reverse`)."
   ]
  },
  {
   "cell_type": "code",
   "execution_count": 7,
   "metadata": {},
   "outputs": [
    {
     "name": "stdout",
     "output_type": "stream",
     "text": [
      "\u001b[36m<function>\u001b[0m\u001b[90m : List Float -> Float\u001b[0m\r\n"
     ]
    }
   ],
   "source": [
    "last : List Float -> Float\n",
    "last lst = 0"
   ]
  },
  {
   "cell_type": "code",
   "execution_count": 8,
   "metadata": {},
   "outputs": [
    {
     "name": "stdout",
     "output_type": "stream",
     "text": [
      "\u001b[95m0\u001b[0m\u001b[90m : Float\u001b[0m\r\n"
     ]
    }
   ],
   "source": [
    "last [1,2]"
   ]
  },
  {
   "cell_type": "code",
   "execution_count": 9,
   "metadata": {},
   "outputs": [
    {
     "name": "stdout",
     "output_type": "stream",
     "text": [
      "\u001b[95m0\u001b[0m\u001b[90m : Float\u001b[0m\r\n"
     ]
    }
   ],
   "source": [
    "grootste = last sortData"
   ]
  },
  {
   "cell_type": "markdown",
   "metadata": {},
   "source": [
    "**mediaan.** De *mediaan* van een reeks getallen is het \"middelste\" getal naar waarde: het aantal getallen kleiner of gelijk aan de mediaan is gelijk aan het aantal getallen groter of gelijk aan de mediaan.\n",
    "\n",
    "Als de lijst getallen geordend (gesorteerd) is, en uit een oneven aantal getallen bestaat, dan is de mediaan het middelste getal. Voor een even aantal getallen is de mediaan het *gemiddelde* van beide middelste getallen: $(m1 + m2)~/~2$\n",
    "\n",
    "Met behulp van de List-functies `take` en `drop` kun je een lijst eenvoudig in twee delen splitsen. Voorbeeld:"
   ]
  },
  {
   "cell_type": "code",
   "execution_count": 10,
   "metadata": {},
   "outputs": [
    {
     "name": "stdout",
     "output_type": "stream",
     "text": [
      "[\u001b[95m1\u001b[0m,\u001b[95m2\u001b[0m]\u001b[90m : List number\u001b[0m\r\n"
     ]
    }
   ],
   "source": [
    "take 2 [1,2,3,4]"
   ]
  },
  {
   "cell_type": "code",
   "execution_count": 11,
   "metadata": {},
   "outputs": [
    {
     "name": "stdout",
     "output_type": "stream",
     "text": [
      "[\u001b[95m3\u001b[0m,\u001b[95m4\u001b[0m]\u001b[90m : List number\u001b[0m\r\n"
     ]
    }
   ],
   "source": [
    "drop 2 [1,2,3,4]"
   ]
  },
  {
   "cell_type": "markdown",
   "metadata": {},
   "source": [
    "Het gemiddelde van het laatste element van de eerste lijst en het eerste element van de tweede lijst is de mediaan:"
   ]
  },
  {
   "cell_type": "code",
   "execution_count": 12,
   "metadata": {},
   "outputs": [
    {
     "name": "stdout",
     "output_type": "stream",
     "text": [
      "\u001b[95m0\u001b[0m\u001b[90m : Float\u001b[0m\r\n"
     ]
    }
   ],
   "source": [
    "((last (take 2 [1,2,3,4])) + (first (drop 2 [1,2,3,4]))) / 2"
   ]
  },
  {
   "cell_type": "markdown",
   "metadata": {},
   "source": [
    "Voor het splitsen van een lijst getallen in twee (bijna) gelijke helften gebruik je, in combinatie make `take` en `drop`, de geheeltallige deling `//`.\n",
    "\n",
    "De deling `a // 2` geeft het resultaat van de geheeltallige deling door 2:"
   ]
  },
  {
   "cell_type": "code",
   "execution_count": 13,
   "metadata": {},
   "outputs": [
    {
     "name": "stdout",
     "output_type": "stream",
     "text": [
      "\u001b[95m2\u001b[0m\u001b[90m : Int\u001b[0m\r\n"
     ]
    }
   ],
   "source": [
    "4 // 2"
   ]
  },
  {
   "cell_type": "code",
   "execution_count": 14,
   "metadata": {},
   "outputs": [
    {
     "name": "stdout",
     "output_type": "stream",
     "text": [
      "\u001b[95m2\u001b[0m\u001b[90m : Int\u001b[0m\r\n"
     ]
    }
   ],
   "source": [
    "5 // 2"
   ]
  },
  {
   "cell_type": "markdown",
   "metadata": {},
   "source": [
    "De rest na deling wordt gegeven door de `modBy`-functie. Hiermee kun je nagaan of een getal even of oneven is:"
   ]
  },
  {
   "cell_type": "code",
   "execution_count": 15,
   "metadata": {},
   "outputs": [
    {
     "name": "stdout",
     "output_type": "stream",
     "text": [
      "\u001b[95m0\u001b[0m\u001b[90m : Int\u001b[0m\r\n"
     ]
    }
   ],
   "source": [
    "modBy 2 4"
   ]
  },
  {
   "cell_type": "code",
   "execution_count": 16,
   "metadata": {},
   "outputs": [
    {
     "name": "stdout",
     "output_type": "stream",
     "text": [
      "\u001b[95m1\u001b[0m\u001b[90m : Int\u001b[0m\r\n"
     ]
    }
   ],
   "source": [
    "modBy 2 5"
   ]
  },
  {
   "cell_type": "markdown",
   "metadata": {},
   "source": [
    "Op basis hiervan kun je nu de mediaan definiëren:"
   ]
  },
  {
   "cell_type": "code",
   "execution_count": 17,
   "metadata": {},
   "outputs": [
    {
     "name": "stdout",
     "output_type": "stream",
     "text": [
      "\u001b[36m<function>\u001b[0m\u001b[90m : List Float -> Float\u001b[0m\r\n"
     ]
    }
   ],
   "source": [
    "median : List Float -> Float\n",
    "median lst = 0"
   ]
  },
  {
   "cell_type": "code",
   "execution_count": 18,
   "metadata": {},
   "outputs": [
    {
     "name": "stdout",
     "output_type": "stream",
     "text": [
      "\u001b[95m0\u001b[0m\u001b[90m : Float\u001b[0m\r\n"
     ]
    }
   ],
   "source": [
    "median [1,2,3,4]"
   ]
  },
  {
   "cell_type": "code",
   "execution_count": 19,
   "metadata": {},
   "outputs": [
    {
     "name": "stdout",
     "output_type": "stream",
     "text": [
      "\u001b[95m0\u001b[0m\u001b[90m : Float\u001b[0m\r\n"
     ]
    }
   ],
   "source": [
    "median [1,2,3,4,5]"
   ]
  },
  {
   "cell_type": "markdown",
   "metadata": {},
   "source": [
    "Controleer of deze functie ook werkt voor randgevallen zoals de lege lijst, of een lijst met 1 element."
   ]
  },
  {
   "cell_type": "code",
   "execution_count": 20,
   "metadata": {},
   "outputs": [
    {
     "name": "stdout",
     "output_type": "stream",
     "text": [
      "\u001b[95m0\u001b[0m\u001b[90m : Float\u001b[0m\r\n"
     ]
    }
   ],
   "source": [
    "median []"
   ]
  },
  {
   "cell_type": "code",
   "execution_count": 21,
   "metadata": {},
   "outputs": [
    {
     "name": "stdout",
     "output_type": "stream",
     "text": [
      "\u001b[95m0\u001b[0m\u001b[90m : Float\u001b[0m\r\n"
     ]
    }
   ],
   "source": [
    "median [1]"
   ]
  },
  {
   "cell_type": "code",
   "execution_count": 22,
   "metadata": {},
   "outputs": [
    {
     "name": "stdout",
     "output_type": "stream",
     "text": [
      "\u001b[95m0\u001b[0m\u001b[90m : Float\u001b[0m\r\n"
     ]
    }
   ],
   "source": [
    "mediaan = median sortData"
   ]
  },
  {
   "cell_type": "markdown",
   "metadata": {},
   "source": [
    "**kwartiel1, kwartiel3.** De eerste en derde kwartielen kun je nu uitrekenen als de mediaan van de eerste helft en de mediaan van de tweede helft van de geordende lijst. Als deze lijst een oneven lengte heeft, neem dan steeds de grootste helft voor het nemen van de kwartiel-mediaan. "
   ]
  },
  {
   "cell_type": "code",
   "execution_count": 23,
   "metadata": {},
   "outputs": [
    {
     "name": "stdout",
     "output_type": "stream",
     "text": [
      "\u001b[36m<function>\u001b[0m\u001b[90m : List Float -> Float\u001b[0m\r\n"
     ]
    }
   ],
   "source": [
    "q1 : List Float -> Float\n",
    "q1 lst = 0"
   ]
  },
  {
   "cell_type": "code",
   "execution_count": 24,
   "metadata": {},
   "outputs": [
    {
     "name": "stdout",
     "output_type": "stream",
     "text": [
      "\u001b[95m0\u001b[0m\u001b[90m : Float\u001b[0m\r\n"
     ]
    }
   ],
   "source": [
    "q1 [1,2,3,4,5]"
   ]
  },
  {
   "cell_type": "code",
   "execution_count": 25,
   "metadata": {},
   "outputs": [
    {
     "name": "stdout",
     "output_type": "stream",
     "text": [
      "\u001b[95m0\u001b[0m\u001b[90m : Float\u001b[0m\r\n"
     ]
    }
   ],
   "source": [
    "kwartiel1 = q1 sortData"
   ]
  },
  {
   "cell_type": "code",
   "execution_count": 26,
   "metadata": {},
   "outputs": [
    {
     "name": "stdout",
     "output_type": "stream",
     "text": [
      "\u001b[36m<function>\u001b[0m\u001b[90m : List Float -> Float\u001b[0m\r\n"
     ]
    }
   ],
   "source": [
    "q3 : List Float -> Float\n",
    "q3 lst = 0"
   ]
  },
  {
   "cell_type": "code",
   "execution_count": 27,
   "metadata": {},
   "outputs": [
    {
     "name": "stdout",
     "output_type": "stream",
     "text": [
      "\u001b[95m0\u001b[0m\u001b[90m : Float\u001b[0m\r\n"
     ]
    }
   ],
   "source": [
    "q3 [1,2,3,4]"
   ]
  },
  {
   "cell_type": "code",
   "execution_count": 28,
   "metadata": {},
   "outputs": [
    {
     "name": "stdout",
     "output_type": "stream",
     "text": [
      "\u001b[95m0\u001b[0m\u001b[90m : Float\u001b[0m\r\n"
     ]
    }
   ],
   "source": [
    "kwartiel3 = q3 sortData"
   ]
  },
  {
   "cell_type": "markdown",
   "metadata": {},
   "source": [
    "Vergelijk het onderstaande lijst met het resultaat van het gegeven programma:"
   ]
  },
  {
   "cell_type": "code",
   "execution_count": 29,
   "metadata": {},
   "outputs": [
    {
     "name": "stdout",
     "output_type": "stream",
     "text": [
      "[\u001b[95m0\u001b[0m,\u001b[95m0\u001b[0m,\u001b[95m0\u001b[0m,\u001b[95m0\u001b[0m,\u001b[95m0\u001b[0m]\u001b[90m : List Float\u001b[0m\r\n"
     ]
    }
   ],
   "source": [
    "[kleinste, kwartiel1, mediaan, kwartiel3, grootste]"
   ]
  },
  {
   "cell_type": "markdown",
   "metadata": {},
   "source": [
    "**boxplotdata.** De functie `boxplotdata` zorgt voor het sorteren van de lijst, en combineert vervolgens de functies die je gemaakt hebt tot een lijst:"
   ]
  },
  {
   "cell_type": "code",
   "execution_count": 30,
   "metadata": {},
   "outputs": [
    {
     "name": "stdout",
     "output_type": "stream",
     "text": [
      "\u001b[36m<function>\u001b[0m\u001b[90m : List Float -> List Float\u001b[0m\r\n"
     ]
    }
   ],
   "source": [
    "boxplotdata lst =\n",
    "  let sortlst = sort lst\n",
    "  in\n",
    "    [first sortlst, q1 sortlst, median sortlst, q3 sortlst, last sortlst]"
   ]
  },
  {
   "cell_type": "code",
   "execution_count": 31,
   "metadata": {},
   "outputs": [
    {
     "name": "stdout",
     "output_type": "stream",
     "text": [
      "[\u001b[95m0\u001b[0m,\u001b[95m0\u001b[0m,\u001b[95m0\u001b[0m,\u001b[95m0\u001b[0m,\u001b[95m0\u001b[0m]\u001b[90m : List Float\u001b[0m\r\n"
     ]
    }
   ],
   "source": [
    "boxplotdata [1,2,3,4,5]"
   ]
  },
  {
   "cell_type": "markdown",
   "metadata": {},
   "source": [
    "Hieronder zie je het resultaat van `boxplotdata` met de eerder gegeven testdata. Controleer het resultaat:"
   ]
  },
  {
   "cell_type": "code",
   "execution_count": 32,
   "metadata": {},
   "outputs": [
    {
     "name": "stdout",
     "output_type": "stream",
     "text": [
      "[\u001b[95m0\u001b[0m,\u001b[95m0\u001b[0m,\u001b[95m0\u001b[0m,\u001b[95m0\u001b[0m,\u001b[95m0\u001b[0m]\u001b[90m : List Float\u001b[0m\r\n"
     ]
    }
   ],
   "source": [
    "boxplotdata [7,3,8,6,8,5,4,5,3,6,2,6,9,1,2,7,5,8,7,6]"
   ]
  }
 ],
 "metadata": {
  "kernelspec": {
   "display_name": "Elm Repl",
   "language": "elm",
   "name": "elmreplkernel"
  },
  "language_info": {
   "codemirror_mode": "elm",
   "file_extension": ".elm",
   "mimetype": "text/x-elm",
   "name": "elm"
  }
 },
 "nbformat": 4,
 "nbformat_minor": 4
}