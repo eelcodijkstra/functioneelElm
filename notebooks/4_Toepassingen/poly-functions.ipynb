{
 "cells": [
  {
   "cell_type": "markdown",
   "metadata": {},
   "source": [
    "# De polynoom-functies"
   ]
  },
  {
   "cell_type": "markdown",
   "metadata": {},
   "source": [
    "Om een polynoom te kunnen tekenen hebben we een lijst met polynoom-functiepunten nodig, bijvoorbeeld 200 punten in het interval -100..100. Elk punt bestaat uit een tupel $(x, f(x))$, waar $x$ de x-waarde is en $f(x)$ de bijbehorende waarde van de polynoom-functie. Deze lijst met functiepunten is de basis voor het tekenen van de grafiek met behulp van SVG.\n",
    "\n",
    "We splitsen dit probleem in twee stappen (functies):\n",
    "\n",
    "1. een functie `poly coefs x` voor het uitrekenen van een polynoom met coeëfficienten `coefs` in punt `x`. \n",
    "2. een functie `funcpoints f steps from to`, die gegeven een functie `f`, aantal stappen `steps`, en begin- en eindwaarden `from` en `to`, een lijst $(x, f x)$-tupels oplevert: `[(from, f from), ..., (to, f to)]`.\n",
    "\n",
    "*Opmerking* Deze functies zijn niet specifiek voor dit probleem: je kunt de polynoom-functie overal gebruiken waar je polynomen nodig hebt; en de tweede functie voor het tekenen van allerlei functies, niet alleen polynomen. Het is een kunst om deelproblemen zo te formuleren dat je de oplossingen ook op andere plaatsen kunt gebruiken.\n",
    "\n",
    "Hieronder werk je de functie `poly` uit. In een ander notebook werk je `funcpoints` uit."
   ]
  },
  {
   "cell_type": "markdown",
   "metadata": {},
   "source": [
    "**Import en hulpfuncties**"
   ]
  },
  {
   "cell_type": "code",
   "execution_count": 1,
   "metadata": {},
   "outputs": [
    {
     "name": "stdout",
     "output_type": "stream",
     "text": []
    }
   ],
   "source": [
    "import List exposing (length, map, range)"
   ]
  },
  {
   "cell_type": "code",
   "execution_count": 2,
   "metadata": {},
   "outputs": [
    {
     "name": "stdout",
     "output_type": "stream",
     "text": [
      "\u001b[36m<function>\u001b[0m\u001b[90m : a -> a -> String\u001b[0m\n"
     ]
    }
   ],
   "source": [
    "expect : a -> a -> String\n",
    "expect tst res =\n",
    "  if tst == res then \"OK\" else \"Fail\""
   ]
  },
  {
   "cell_type": "markdown",
   "metadata": {
    "tags": []
   },
   "source": [
    "## De functie `pow`"
   ]
  },
  {
   "cell_type": "markdown",
   "metadata": {},
   "source": [
    "Je gaat een recursieve functie `pow` maken, van type `Float -> Int -> Float`. De aanroep van deze functie `pow x n` heeft als resultaat $x^n$. Je gebruikt deze functie later om polynomen van de vorm $ax^2 + bx + c$ uit te rekenen. Daarom hoeft deze functie alleen voor gehele $n \\geq 0$ een resultaat op te leveren."
   ]
  },
  {
   "cell_type": "markdown",
   "metadata": {},
   "source": [
    "**Vraag** Welk resultaat verwacht je voor `pow 2 3`? Voor `pow 3 2`?  Voor `pow 0 3`? En `pow 3 0`?"
   ]
  },
  {
   "cell_type": "markdown",
   "metadata": {},
   "source": [
    "Gebruik voor de definitie van `pow x n` het volgende schema:\n",
    "\n",
    "```{figure} img/pow-schema.png\n",
    ":alt: pow schema\n",
    ":width: 300px\n",
    ":align: center\n",
    "\n",
    "Schema voor `pow x n`\n",
    "```"
   ]
  },
  {
   "cell_type": "markdown",
   "metadata": {},
   "source": [
    "**Opdracht.** Werk hieronder de functie `pow` uit. Verderop staan enkele testen van deze functie. Controleer of je functie daaraan voldoet."
   ]
  },
  {
   "cell_type": "code",
   "execution_count": 3,
   "metadata": {},
   "outputs": [
    {
     "name": "stdout",
     "output_type": "stream",
     "text": [
      "\u001b[36m<function>\u001b[0m\u001b[90m : Float -> Int -> Float\u001b[0m\n"
     ]
    }
   ],
   "source": [
    "pow : Float -> Int -> Float\n",
    "pow x m = 0    -- vervang door je eigen definitie"
   ]
  },
  {
   "cell_type": "markdown",
   "metadata": {},
   "source": [
    "Hieronder staat een aantal testen voor de `pow` functie. Voor het testen gebruiken we de functie `expect` die als de twee argumenten gelijk zijn, `OK` oplevert, anders `Fail`."
   ]
  },
  {
   "cell_type": "code",
   "execution_count": 4,
   "metadata": {
    "tags": [
     "remove-input"
    ]
   },
   "outputs": [
    {
     "name": "stdout",
     "output_type": "stream",
     "text": [
      "\u001b[93m\"Fail\"\u001b[0m\u001b[90m : String\u001b[0m\n"
     ]
    }
   ],
   "source": [
    "expect (pow 2 3) 8"
   ]
  },
  {
   "cell_type": "code",
   "execution_count": 5,
   "metadata": {},
   "outputs": [
    {
     "name": "stdout",
     "output_type": "stream",
     "text": [
      "\u001b[93m\"Fail\"\u001b[0m\u001b[90m : String\u001b[0m\n"
     ]
    }
   ],
   "source": [
    "expect (pow 2 0) 1"
   ]
  },
  {
   "cell_type": "code",
   "execution_count": 6,
   "metadata": {},
   "outputs": [
    {
     "name": "stdout",
     "output_type": "stream",
     "text": [
      "\u001b[93m\"Fail\"\u001b[0m\u001b[90m : String\u001b[0m\n"
     ]
    }
   ],
   "source": [
    "expect (pow -1 2) 1"
   ]
  },
  {
   "cell_type": "markdown",
   "metadata": {
    "tags": []
   },
   "source": [
    "## De functie `poly`"
   ]
  },
  {
   "cell_type": "markdown",
   "metadata": {},
   "source": [
    "Je gaat een (recursieve) functie `poly` maken die gegeven een lijst van polynoom-coëfficienten het polynoom in een punt uitrekent. Maak hierbij gebruik van de functie `pow` die je hierboven gedefinieerd hebt.\n",
    "\n",
    "*Hint* de lengte van de lijst met coëfficienten bepaalt de macht (exponent) die je voor het eerste getal uit de lijst nodig hebt. Voorbeeld: voor het polynoom $3x^2 + 4$ is de lijst met coëfficienten: $[3, 0, 4]$. De lengte van deze lijst is 3. Dit betekent dat je $3$ moet vermenigvuldigen met $x^2$, ofwel `pow x 2`.\n",
    "\n",
    "Voor deze functie `poly` gebruik je het volgende schema:\n",
    "\n",
    "* als `coefs = []` : 0\n",
    "* als `coefs = c :: cs` : \n",
    "    * `c * (pow x exp) + poly cs`\n",
    "    * waarin `exp = length cs`\n",
    "    \n",
    "Opmerking:\n",
    "\n",
    "* voor het gevalsonderscheid op een lijst gebruik je bij voorkeur de `case`-constructie.\n",
    "\n",
    "**Opdracht.** Werk de functie `poly` hieronder uit. Controleer de werking met de gegeven testen"
   ]
  },
  {
   "cell_type": "code",
   "execution_count": 7,
   "metadata": {},
   "outputs": [
    {
     "name": "stdout",
     "output_type": "stream",
     "text": [
      "\u001b[36m<function>\u001b[0m\u001b[90m : List Float -> Float -> Float\u001b[0m\n"
     ]
    }
   ],
   "source": [
    "poly : List Float -> Float -> Float\n",
    "poly coefs x = 0 -- vervang door je eigen definitie"
   ]
  },
  {
   "cell_type": "code",
   "execution_count": 8,
   "metadata": {},
   "outputs": [
    {
     "name": "stdout",
     "output_type": "stream",
     "text": [
      "\u001b[95m0\u001b[0m\u001b[90m : Float\u001b[0m\n"
     ]
    }
   ],
   "source": [
    "poly [1,1,1] 3"
   ]
  },
  {
   "cell_type": "markdown",
   "metadata": {},
   "source": [
    "<div id=\"spot\"></div>"
   ]
  },
  {
   "cell_type": "code",
   "execution_count": 9,
   "metadata": {},
   "outputs": [
    {
     "name": "stdout",
     "output_type": "stream",
     "text": [
      "\u001b[93m\"Fail\"\u001b[0m\u001b[90m : String\u001b[0m\n"
     ]
    }
   ],
   "source": [
    "expect (poly [1,1,1] 2) 7"
   ]
  },
  {
   "cell_type": "code",
   "execution_count": 10,
   "metadata": {},
   "outputs": [
    {
     "name": "stdout",
     "output_type": "stream",
     "text": [
      "\u001b[93m\"Fail\"\u001b[0m\u001b[90m : String\u001b[0m\n"
     ]
    }
   ],
   "source": [
    "expect (poly [1,0,-2] 3) 7"
   ]
  },
  {
   "cell_type": "code",
   "execution_count": 11,
   "metadata": {},
   "outputs": [
    {
     "name": "stdout",
     "output_type": "stream",
     "text": [
      "\u001b[93m\"Fail\"\u001b[0m\u001b[90m : String\u001b[0m\n"
     ]
    }
   ],
   "source": [
    "expect (poly [1,2,3,4] 3) 58"
   ]
  },
  {
   "cell_type": "markdown",
   "metadata": {},
   "source": [
    "## Gebruik van poly met 1 parameter\n",
    "\n",
    "De functie `poly` is van het type: `List Float -> Float -> Float`. Je leest dit als: `List Float -> (Float -> Float)`. Met andere woorden: als je `poly` alleen de lijst met coëfficienten meegeeft, dan levert deze als resultaat een \"gewone\" functie `Float -> Float` op.\n",
    "\n",
    "Kijk maar:"
   ]
  },
  {
   "cell_type": "code",
   "execution_count": 12,
   "metadata": {},
   "outputs": [
    {
     "name": "stdout",
     "output_type": "stream",
     "text": [
      "\u001b[36m<function>\u001b[0m\u001b[90m : Float -> Float\u001b[0m\n"
     ]
    }
   ],
   "source": [
    "poly111 = poly [1,1,1]"
   ]
  },
  {
   "cell_type": "markdown",
   "metadata": {},
   "source": [
    "Deze functie kun je vervolgens een waarde voor \"x\" aanbieden:"
   ]
  },
  {
   "cell_type": "code",
   "execution_count": 13,
   "metadata": {},
   "outputs": [
    {
     "name": "stdout",
     "output_type": "stream",
     "text": [
      "\u001b[95m0\u001b[0m\u001b[90m : Float\u001b[0m\n"
     ]
    }
   ],
   "source": [
    "poly111 2"
   ]
  },
  {
   "cell_type": "markdown",
   "metadata": {},
   "source": [
    "Je kunt deze functie ook op een rij getallen loslaten:"
   ]
  },
  {
   "cell_type": "code",
   "execution_count": 14,
   "metadata": {},
   "outputs": [
    {
     "name": "stdout",
     "output_type": "stream",
     "text": [
      "[\u001b[95m0\u001b[0m,\u001b[95m1\u001b[0m,\u001b[95m2\u001b[0m,\u001b[95m3\u001b[0m,\u001b[95m4\u001b[0m,\u001b[95m5\u001b[0m,\u001b[95m6\u001b[0m,\u001b[95m7\u001b[0m,\u001b[95m8\u001b[0m,\u001b[95m9\u001b[0m,\u001b[95m10\u001b[0m]\u001b[90m\n",
      "    : List Float\u001b[0m\n"
     ]
    }
   ],
   "source": [
    "numbers = map toFloat (range 0 10)"
   ]
  },
  {
   "cell_type": "code",
   "execution_count": 15,
   "metadata": {},
   "outputs": [
    {
     "name": "stdout",
     "output_type": "stream",
     "text": [
      "[\u001b[95m0\u001b[0m,\u001b[95m0\u001b[0m,\u001b[95m0\u001b[0m,\u001b[95m0\u001b[0m,\u001b[95m0\u001b[0m,\u001b[95m0\u001b[0m,\u001b[95m0\u001b[0m,\u001b[95m0\u001b[0m,\u001b[95m0\u001b[0m,\u001b[95m0\u001b[0m,\u001b[95m0\u001b[0m]\u001b[90m\n",
      "    : List Float\u001b[0m\n"
     ]
    }
   ],
   "source": [
    "map poly111 numbers"
   ]
  },
  {
   "cell_type": "markdown",
   "metadata": {},
   "source": [
    "Dit kun je later gebruiken bij het uitrekenen van `poly coefs` voor een reeks x-waarden, om deze polynoom te tekenen."
   ]
  },
  {
   "cell_type": "markdown",
   "metadata": {},
   "source": [
    "```{note}\n",
    "Het principe om een functie met meerdere paramaters te zien als een functie met 1 parameter die een functie oplevert met een parameter minder, heet ook wel *Currying*, naar de wiskundige Haskell Curry.\n",
    "```\n",
    "\n",
    "Hieronder nog wat voorbeelden:"
   ]
  },
  {
   "cell_type": "code",
   "execution_count": 16,
   "metadata": {},
   "outputs": [
    {
     "name": "stdout",
     "output_type": "stream",
     "text": [
      "\u001b[36m<function>\u001b[0m\u001b[90m : number -> number -> number\u001b[0m\n"
     ]
    }
   ],
   "source": [
    "(+)"
   ]
  },
  {
   "cell_type": "code",
   "execution_count": 17,
   "metadata": {},
   "outputs": [
    {
     "name": "stdout",
     "output_type": "stream",
     "text": [
      "\u001b[36m<function>\u001b[0m\u001b[90m : number -> number\u001b[0m\n"
     ]
    }
   ],
   "source": [
    "succ = (+) 1"
   ]
  },
  {
   "cell_type": "code",
   "execution_count": 18,
   "metadata": {},
   "outputs": [
    {
     "name": "stdout",
     "output_type": "stream",
     "text": [
      "\u001b[95m4\u001b[0m\u001b[90m : number\u001b[0m\n"
     ]
    }
   ],
   "source": [
    "succ 3"
   ]
  },
  {
   "cell_type": "code",
   "execution_count": 19,
   "metadata": {},
   "outputs": [
    {
     "name": "stdout",
     "output_type": "stream",
     "text": [
      "\u001b[36m<function>\u001b[0m\u001b[90m : List Float -> List Float\u001b[0m\n"
     ]
    }
   ],
   "source": [
    "poly111map = map poly111"
   ]
  },
  {
   "cell_type": "code",
   "execution_count": 20,
   "metadata": {},
   "outputs": [
    {
     "name": "stdout",
     "output_type": "stream",
     "text": [
      "[\u001b[95m0\u001b[0m,\u001b[95m0\u001b[0m,\u001b[95m0\u001b[0m,\u001b[95m0\u001b[0m,\u001b[95m0\u001b[0m,\u001b[95m0\u001b[0m,\u001b[95m0\u001b[0m,\u001b[95m0\u001b[0m,\u001b[95m0\u001b[0m,\u001b[95m0\u001b[0m,\u001b[95m0\u001b[0m]\u001b[90m\n",
      "    : List Float\u001b[0m\n"
     ]
    }
   ],
   "source": [
    "poly111map numbers"
   ]
  }
 ],
 "metadata": {
  "kernelspec": {
   "display_name": "Elm Repl",
   "language": "elm",
   "name": "elmreplkernel"
  },
  "language_info": {
   "codemirror_mode": "elm",
   "file_extension": ".elm",
   "mimetype": "text/x-elm",
   "name": "elm"
  }
 },
 "nbformat": 4,
 "nbformat_minor": 4
}
